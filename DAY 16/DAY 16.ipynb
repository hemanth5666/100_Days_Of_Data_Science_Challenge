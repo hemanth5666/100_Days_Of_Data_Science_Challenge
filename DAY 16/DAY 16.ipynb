{
 "cells": [
  {
   "cell_type": "markdown",
   "id": "36e3d5f0",
   "metadata": {},
   "source": [
    "# Hyperparameter Tuning"
   ]
  },
  {
   "cell_type": "raw",
   "id": "b2771361",
   "metadata": {},
   "source": [
    "Hyperparameter tuning involves finding the optimal set of hyperparameters for a machine learning model to improve its performance. Hyperparameters are settings that you configure before training a model, such as learning rate, number of trees in a random forest, or the number of layers in a neural network."
   ]
  },
  {
   "cell_type": "raw",
   "id": "484716d1",
   "metadata": {},
   "source": [
    "Types of Regularization:\n",
    "\n",
    "    L1 Regularization (Lasso): Adds the absolute value of the coefficients as a penalty term to the loss function.\n",
    "    L2 Regularization (Ridge): Adds the square of the coefficients as a penalty term to the loss function.\n",
    "    Elastic Net: A combination of L1 and L2 regularization."
   ]
  },
  {
   "cell_type": "code",
   "execution_count": 1,
   "id": "83a3e66e",
   "metadata": {},
   "outputs": [],
   "source": [
    "from sklearn.linear_model import *\n",
    "from sklearn.model_selection import train_test_split\n",
    "from sklearn.datasets import make_regression\n",
    "\n",
    "# Create sample data\n",
    "X, y = make_regression(n_samples=100, n_features=20, noise=0.1)\n",
    "#print(X,y)"
   ]
  },
  {
   "cell_type": "code",
   "execution_count": 2,
   "id": "0d384edf",
   "metadata": {},
   "outputs": [],
   "source": [
    "# Split data\n",
    "X_train, X_test, y_train, y_test = train_test_split(X, y, test_size=0.2, random_state=42)"
   ]
  },
  {
   "cell_type": "code",
   "execution_count": 3,
   "id": "44533e22",
   "metadata": {},
   "outputs": [
    {
     "data": {
      "text/plain": [
       "ElasticNet()"
      ]
     },
     "execution_count": 3,
     "metadata": {},
     "output_type": "execute_result"
    }
   ],
   "source": [
    "# Apply Lasso Regression\n",
    "lasso_reg = Lasso(alpha=0.1)\n",
    "lasso_reg.fit(X_train, y_train)\n",
    "\n",
    "# Apply Ridge Regression\n",
    "ridge_reg = Ridge(alpha=1.0)\n",
    "ridge_reg.fit(X_train, y_train)\n",
    "\n",
    "# Apply Elastic Net Regression\n",
    "elastic_net = ElasticNet(alpha=1.0, l1_ratio=0.5)\n",
    "# l1_ratio controls the mix of L1 and L2 penalties\n",
    "elastic_net.fit(X_train, y_train)"
   ]
  },
  {
   "cell_type": "code",
   "execution_count": 4,
   "id": "a118b48f",
   "metadata": {},
   "outputs": [
    {
     "name": "stdout",
     "output_type": "stream",
     "text": [
      "Lasso Score: 0.9999927090744123\n",
      "Ridge Score: 0.9997966921361443\n",
      "Elastic Net Score: 0.8585685360582849\n"
     ]
    }
   ],
   "source": [
    "# Evaluate the model\n",
    "print(\"Lasso Score:\", lasso_reg.score(X_test, y_test))\n",
    "print(\"Ridge Score:\", ridge_reg.score(X_test, y_test))\n",
    "print(\"Elastic Net Score:\", elastic_net.score(X_test, y_test))\n"
   ]
  },
  {
   "cell_type": "raw",
   "id": "d2382d91",
   "metadata": {},
   "source": [
    "The performance of Ridge, Lasso, and ElasticNet heavily depends on the value of the regularization parameter (alpha) and, in the case of ElasticNet, the l1_ratio. Experiment with different values to find the optimal hyperparameters for your dataset."
   ]
  },
  {
   "cell_type": "markdown",
   "id": "62d96730",
   "metadata": {},
   "source": [
    "# Hyperparameter"
   ]
  },
  {
   "cell_type": "raw",
   "id": "1b57cc6d",
   "metadata": {},
   "source": [
    "Hyperparameter tuning involves finding the best set of hyperparameters for a machine learning model. Hyperparameters are settings that cannot be learned from the data, such as the learning rate in a neural network or the depth of a decision tree. Tuning these parameters can significantly affect the model's performance."
   ]
  },
  {
   "cell_type": "raw",
   "id": "5362357c",
   "metadata": {},
   "source": [
    "Grid Search: Tries all combinations of hyperparameter values specified.\n",
    "Random Search: Tries random combinations of hyperparameters.\n",
    "Bayesian Optimization: Uses probability models to find the best hyperparameters."
   ]
  },
  {
   "cell_type": "code",
   "execution_count": 5,
   "id": "521a6352",
   "metadata": {},
   "outputs": [
    {
     "name": "stdout",
     "output_type": "stream",
     "text": [
      "Best Parameters (Grid Search): {'max_depth': 10, 'n_estimators': 50}\n",
      "Best Parameters (Random Search): {'n_estimators': 50, 'max_depth': None}\n"
     ]
    }
   ],
   "source": [
    "from sklearn.model_selection import *\n",
    "from sklearn.ensemble import RandomForestClassifier\n",
    "from sklearn.datasets import make_classification\n",
    "\n",
    "# Create sample data\n",
    "X, y = make_classification(n_samples=100, n_features=20, random_state=42)\n",
    "\n",
    "# model\n",
    "rf = RandomForestClassifier()\n",
    "\n",
    "# Define the parameter distribution\n",
    "param = {\n",
    "    'n_estimators': [10, 50, 100, 200],\n",
    "    'max_depth': [None, 10, 20, 30, 40]\n",
    "}\n",
    "\n",
    "#Grid Search\n",
    "grid_search = GridSearchCV(rf, param, cv=5)\n",
    "grid_search.fit(X, y)\n",
    "\n",
    "# Random Search\n",
    "random_search = RandomizedSearchCV(rf, param_distributions=param, n_iter=10, cv=5, random_state=42)\n",
    "random_search.fit(X, y)\n",
    "\n",
    "print(\"Best Parameters (Grid Search):\", grid_search.best_params_)\n",
    "print(\"Best Parameters (Random Search):\", random_search.best_params_)"
   ]
  },
  {
   "cell_type": "markdown",
   "id": "7db4a5e8",
   "metadata": {},
   "source": [
    "# Cross-validation"
   ]
  },
  {
   "cell_type": "raw",
   "id": "61a3ccff",
   "metadata": {},
   "source": [
    "Cross-validation is a technique to evaluate the performance of a model by dividing the data into multiple subsets (folds). The model is trained on some subsets and validated on the remaining ones. This process is repeated several times, and the results are averaged to get a more reliable estimate of the model's performance."
   ]
  },
  {
   "cell_type": "raw",
   "id": "4b3f1593",
   "metadata": {},
   "source": [
    "K-Fold Cross-Validation: Divides the data into k subsets and trains the model k times, each time using a different subset as the validation set.\n",
    "Stratified K-Fold: Ensures each fold has a similar distribution of target classes."
   ]
  },
  {
   "cell_type": "code",
   "execution_count": 6,
   "id": "5511e8c7",
   "metadata": {},
   "outputs": [],
   "source": [
    "from sklearn.model_selection import cross_val_score,StratifiedKFold\n",
    "from sklearn.svm import SVC\n",
    "from sklearn.datasets import load_iris\n",
    "\n",
    "#data\n",
    "iris = load_iris()\n",
    "X, y = iris.data, iris.target\n",
    "\n",
    "#model\n",
    "svc = SVC(kernel='linear')"
   ]
  },
  {
   "cell_type": "code",
   "execution_count": 7,
   "id": "9a53d5f1",
   "metadata": {},
   "outputs": [
    {
     "name": "stdout",
     "output_type": "stream",
     "text": [
      "K-Fold: [0.96666667 1.         0.96666667 0.96666667 1.        ]\n",
      "Average Score 0.9800000000000001\n",
      "Stratified K-Fold [0.96666667 1.         0.96666667 0.96666667 1.        ]\n",
      "Average Score 0.9800000000000001\n"
     ]
    }
   ],
   "source": [
    "# K-Fold Cross-Validation\n",
    "scores = cross_val_score(svc, X, y, cv=5)\n",
    "#Stratified K-Fold Cross-Validation\n",
    "stratified_kf = StratifiedKFold(n_splits=5)\n",
    "stratified_scores = cross_val_score(svc, X, y, cv=stratified_kf)\n",
    "\n",
    "#scores\n",
    "print(\"K-Fold:\", scores)\n",
    "print(\"Average Score\", scores.mean())\n",
    "print(\"Stratified K-Fold\", stratified_scores)\n",
    "print(\"Average Score\", stratified_scores.mean())"
   ]
  },
  {
   "cell_type": "markdown",
   "id": "1d879721",
   "metadata": {},
   "source": [
    "# Sampling"
   ]
  },
  {
   "cell_type": "raw",
   "id": "81fdb7e8",
   "metadata": {},
   "source": [
    "Sampling involves selecting a subset of data from a larger dataset. It is useful for reducing computational costs, dealing with imbalanced datasets, or preparing data for cross-validation."
   ]
  },
  {
   "cell_type": "raw",
   "id": "70890a45",
   "metadata": {},
   "source": [
    "Random Sampling: Selects samples randomly from the dataset.\n",
    "Stratified Sampling: Ensures the sample represents the population, especially important for imbalanced datasets.\n",
    "Under-Sampling: Reduces the number of samples in the majority class.\n",
    "Over-Sampling: Increases the number of samples in the minority class."
   ]
  },
  {
   "cell_type": "code",
   "execution_count": 11,
   "id": "9082acf9",
   "metadata": {},
   "outputs": [],
   "source": [
    "import numpy as np\n",
    "import matplotlib.pyplot as plt\n",
    "from sklearn.datasets import make_classification\n",
    "from sklearn.model_selection import train_test_split\n",
    "from imblearn.under_sampling import RandomUnderSampler\n",
    "from imblearn.over_sampling import RandomOverSampler\n",
    "\n",
    "# Create an imbalanced dataset\n",
    "X, y = make_classification(n_samples=1000, n_features=20, weights=[0.9, 0.1], random_state=42)\n",
    "\n",
    "\n",
    "def plot_class_distribution(y, title, ax):\n",
    "    classes, counts = np.unique(y, return_counts=True)\n",
    "    ax.bar(classes, counts)\n",
    "    ax.set_title(title)\n",
    "    ax.set_xlabel('Class')\n",
    "    ax.set_ylabel('Count')\n",
    "    for i in range(len(classes)):\n",
    "        ax.text(i, counts[i], str(counts[i]), ha='center', va='bottom')"
   ]
  },
  {
   "cell_type": "code",
   "execution_count": 12,
   "id": "7bf0ce8d",
   "metadata": {},
   "outputs": [],
   "source": [
    "X_train, X_test, y_train, y_test = train_test_split(X, y, test_size=0.2, random_state=42)\n",
    "\n",
    "\n",
    "X_train_strat, X_test_strat, y_train_strat, y_test_strat = train_test_split(X, y, test_size=0.2, stratify=y, random_state=42)\n",
    "\n",
    "#stratify=y: Specifies that the split should be stratified based on the target variable y.\n",
    "\n",
    "rus = RandomUnderSampler(random_state=42)\n",
    "X_resampled_under, y_resampled_under = rus.fit_resample(X, y)\n",
    "\n",
    "ros = RandomOverSampler(random_state=42)\n",
    "X_resampled_over, y_resampled_over = ros.fit_resample(X, y)"
   ]
  },
  {
   "cell_type": "code",
   "execution_count": 13,
   "id": "096b4212",
   "metadata": {},
   "outputs": [
    {
     "data": {
      "image/png": "[encoded data removed]",
      "text/plain": [
       "<Figure size 864x720 with 4 Axes>"
      ]
     },
     "metadata": {
      "needs_background": "light"
     },
     "output_type": "display_data"
    }
   ],
   "source": [
    "fig, axes = plt.subplots(2, 2, figsize=(12, 10))\n",
    "\n",
    "plot_class_distribution(y_train, 'Random Sampling', axes[0, 0])\n",
    "plot_class_distribution(y_train_strat, 'Stratified Sampling', axes[0, 1])\n",
    "plot_class_distribution(y_resampled_under, 'Under-Sampling', axes[1, 0])\n",
    "plot_class_distribution(y_resampled_over, 'Over-Sampling', axes[1, 1])\n",
    "\n",
    "plt.tight_layout()\n",
    "plt.show()\n"
   ]
  }
 ],
 "metadata": {
  "kernelspec": {
   "display_name": "Python 3 (ipykernel)",
   "language": "python",
   "name": "python3"
  },
  "language_info": {
   "codemirror_mode": {
    "name": "ipython",
    "version": 3
   },
   "file_extension": ".py",
   "mimetype": "text/x-python",
   "name": "python",
   "nbconvert_exporter": "python",
   "pygments_lexer": "ipython3",
   "version": "3.10.4"
  }
 },
 "nbformat": 4,
 "nbformat_minor": 5
}
