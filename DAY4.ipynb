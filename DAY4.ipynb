{
 "cells": [
  {
   "cell_type": "markdown",
   "id": "97f4ce8b",
   "metadata": {},
   "source": [
    "# LAMBDA , MAP , REDUCE , FILTER"
   ]
  },
  {
   "cell_type": "code",
   "execution_count": 2,
   "id": "d65572fd",
   "metadata": {},
   "outputs": [
    {
     "data": {
      "text/plain": [
       "(30, 100, 280)"
      ]
     },
     "execution_count": 2,
     "metadata": {},
     "output_type": "execute_result"
    }
   ],
   "source": [
    "res = (lambda *args: sum(args))  \n",
    "res(10,20) , res(10,20,30,40) ,  res(10,20,30,40,50,60,70)"
   ]
  },
  {
   "cell_type": "code",
   "execution_count": 4,
   "id": "dad18d7d",
   "metadata": {},
   "outputs": [
    {
     "data": {
      "text/plain": [
       "[2, 16, 14, 10, 18, 66]"
      ]
     },
     "execution_count": 4,
     "metadata": {},
     "output_type": "execute_result"
    }
   ],
   "source": [
    "odd_num=[1,8,7,5,9,33]\n",
    "def twice(n):\n",
    "    return n*2\n",
    "doubles = list(map(twice,odd_num))\n",
    "doubles"
   ]
  },
  {
   "cell_type": "code",
   "execution_count": 5,
   "id": "9a183f1b",
   "metadata": {},
   "outputs": [
    {
     "data": {
      "text/plain": [
       "126"
      ]
     },
     "execution_count": 5,
     "metadata": {},
     "output_type": "execute_result"
    }
   ],
   "source": [
    "from functools import reduce\n",
    "def add(a,b):\n",
    "    return a+b\n",
    "sum_all = reduce(add,doubles)\n",
    "sum_all"
   ]
  },
  {
   "cell_type": "code",
   "execution_count": 6,
   "id": "cf5a4794",
   "metadata": {},
   "outputs": [
    {
     "data": {
      "text/plain": [
       "[1, 3, 5, 7, 9]"
      ]
     },
     "execution_count": 6,
     "metadata": {},
     "output_type": "execute_result"
    }
   ],
   "source": [
    "list1 = [1,2,3,4,5,6,7,8,9]\n",
    "def odd(n):\n",
    "    if n%2 ==1: return True\n",
    "    else: return False\n",
    "odd_num = list(filter(odd,list1))\n",
    "odd_num"
   ]
  },
  {
   "cell_type": "markdown",
   "id": "9f6258f6",
   "metadata": {},
   "source": [
    "# CLASS & OBJECT"
   ]
  },
  {
   "cell_type": "code",
   "execution_count": 7,
   "id": "072ae0f0",
   "metadata": {
    "scrolled": true
   },
   "outputs": [
    {
     "name": "stdout",
     "output_type": "stream",
     "text": [
      "100\n"
     ]
    }
   ],
   "source": [
    "class my_class:\n",
    "    var_1 = 100\n",
    "obj1 = my_class() \n",
    "print(obj1.var_1)"
   ]
  },
  {
   "cell_type": "code",
   "execution_count": 10,
   "id": "e194de01",
   "metadata": {
    "scrolled": true
   },
   "outputs": [
    {
     "name": "stdout",
     "output_type": "stream",
     "text": [
      "115\n"
     ]
    }
   ],
   "source": [
    "class myclass:\n",
    "    def __init__(self,a):\n",
    "        self.var_1 = 100+a\n",
    "obj1 = myclass(15) \n",
    "print(obj1.var_1)"
   ]
  },
  {
   "cell_type": "markdown",
   "id": "3683fe39",
   "metadata": {},
   "source": [
    "# inheritance"
   ]
  },
  {
   "cell_type": "code",
   "execution_count": 11,
   "id": "6e415212",
   "metadata": {
    "scrolled": true
   },
   "outputs": [
    {
     "name": "stdout",
     "output_type": "stream",
     "text": [
      "Name :- Basit\n",
      "Age :- 36\n",
      "Gender :- Male\n",
      "Employee ID :- 456\n",
      "Salary :- 80000\n",
      "Contract Expiry :- 21-12-2021\n",
      "Contractual Employee Details\n",
      "****************************\n",
      "\n",
      " \n",
      "\n"
     ]
    }
   ],
   "source": [
    "# multi level , single , hierarchical inheritance\n",
    "class person:   \n",
    "# Parent Class\n",
    "    def __init__(self, name , age , gender):\n",
    "        self.name = name\n",
    "        self.age = age\n",
    "        self.gender = gender\n",
    "    def PersonInfo(self):\n",
    "        print('Name :- {}'.format(self.name))\n",
    "        print('Age :- {}'.format(self.age))\n",
    "        print('Gender :- {}'.format(self.gender))\n",
    "        \n",
    "class employee(person): # Child Class\n",
    "    def __init__(self,name,age,gender,empid,salary):\n",
    "        person.__init__(self,name,age,gender)\n",
    "        self.empid = empid\n",
    "        self.salary = salary\n",
    "    def employeeInfo(self):\n",
    "        print('Employee ID :- {}'.format(self.empid))\n",
    "        print('Salary :- {}'.format(self.salary))\n",
    "        \n",
    "class fulltime(employee): # Grand Child Class\n",
    "    def __init__(self,name,age,gender,empid,salary,WorkExperience):\n",
    "        employee.__init__(self,name,age,gender,empid,salary)\n",
    "        self.WorkExperience = WorkExperience\n",
    "    def FulltimeInfo(self):\n",
    "        print('Work Experience :- {}'.format(self.WorkExperience))\n",
    "        \n",
    "class contractual(employee): # Grand Child Class\n",
    "    def __init__(self,name,age,gender,empid,salary,ContractExpiry):\n",
    "        employee.__init__(self,name,age,gender,empid,salary)\n",
    "        self.ContractExpiry = ContractExpiry\n",
    "    def ContractInfo(self):\n",
    "        print('Contract Expiry :- {}'.format(self.ContractExpiry))\n",
    "        print('Contractual Employee Details')\n",
    "        print('****************************')\n",
    "        \n",
    "contract1 = contractual('Basit' , 36 , 'Male' , 456 , 80000,'21-12-2021')\n",
    "contract1.PersonInfo()\n",
    "contract1.employeeInfo()\n",
    "contract1.ContractInfo()\n",
    "print('\\n \\n')"
   ]
  },
  {
   "cell_type": "code",
   "execution_count": 13,
   "id": "59da708e",
   "metadata": {},
   "outputs": [
    {
     "name": "stdout",
     "output_type": "stream",
     "text": [
      "My Name :-  Bill\n",
      "Father : John\n",
      "Mother : Kristen\n"
     ]
    }
   ],
   "source": [
    "# Super Class\n",
    "class Father:\n",
    "    def __init__(self):\n",
    "        self.fathername = str()\n",
    " # Super Class\n",
    "class Mother:\n",
    "    def __init__(self):\n",
    "        self.mothername = str()\n",
    " # Sub Class\n",
    "class Son(Father, Mother):\n",
    "    name = str()\n",
    "    def show(self):\n",
    "        print('My Name :- ',self.name)\n",
    "        print(\"Father :\", self.fathername)\n",
    "        print(\"Mother :\", self.mothername)\n",
    "s1 = Son()\n",
    "s1.name = 'Bill'\n",
    "s1.fathername = \"John\"\n",
    "s1.mothername = \"Kristen\"\n",
    "s1.show()"
   ]
  },
  {
   "cell_type": "code",
   "execution_count": 1,
   "id": "b028c231",
   "metadata": {},
   "outputs": [
    {
     "name": "stdout",
     "output_type": "stream",
     "text": [
      "Student Details\n",
      "---------------\n",
      "Name :- Asif\n",
      "Age :- 24\n",
      "Gender :- Male\n",
      "Student ID :- 123\n",
      "Fees :- 1200\n"
     ]
    }
   ],
   "source": [
    "class person:   # Parent Class\n",
    "    def __init__(self, name , age , gender):\n",
    "        self.name = name\n",
    "        self.age = age\n",
    "        self.gender = gender\n",
    "    def PersonInfo(self):\n",
    "        print('Name :- {}'.format(self.name))\n",
    "        print('Age :- {}'.format(self.age))\n",
    "        print('Gender :- {}'.format(self.gender))\n",
    "        \n",
    "class student(person): # Child Class\n",
    "    def __init__(self,name,age,gender,studentid,fees):\n",
    "        super().__init__(name,age,gender)  \n",
    "        self.studentid = studentid\n",
    "        self.fees = fees\n",
    "    def StudentInfo(self):\n",
    "        super().PersonInfo()\n",
    "        print('Student ID :- {}'.format(self.studentid))\n",
    "        print('Fees :- {}'.format(self.fees))\n",
    "stud = student('Asif' , 24 , 'Male' , 123 , 1200)\n",
    "print('Student Details')\n",
    "print('---------------')\n",
    "stud.StudentInfo()"
   ]
  },
  {
   "cell_type": "markdown",
   "id": "b3a43d4b",
   "metadata": {},
   "source": [
    "# Iterator"
   ]
  },
  {
   "cell_type": "code",
   "execution_count": null,
   "id": "28645ce7",
   "metadata": {},
   "outputs": [],
   "source": [
    "# iter() \n",
    "# next() (StopIteration) -> .__next__()\n"
   ]
  },
  {
   "cell_type": "code",
   "execution_count": 14,
   "id": "19b71127",
   "metadata": {},
   "outputs": [
    {
     "name": "stdout",
     "output_type": "stream",
     "text": [
      "1\n",
      "5\n",
      "8\n"
     ]
    }
   ],
   "source": [
    "m=[1,5,8,2,7,6]\n",
    "x=iter(m)\n",
    "print(x.__next__())\n",
    "print(x.__next__())\n",
    "print(x.__next__())"
   ]
  },
  {
   "cell_type": "markdown",
   "id": "3eb28ba4",
   "metadata": {},
   "source": [
    "#  Decorator"
   ]
  },
  {
   "cell_type": "code",
   "execution_count": 15,
   "id": "94db69a7",
   "metadata": {},
   "outputs": [
    {
     "name": "stdout",
     "output_type": "stream",
     "text": [
      "read terms and conditions\n",
      "login\n",
      "read terms and conditions\n",
      "login_page\n"
     ]
    }
   ],
   "source": [
    "def install_decorator(func):\n",
    "    def wrapper():\n",
    "        print(\"read terms and conditions\")\n",
    "        return func()\n",
    "    return wrapper()\n",
    "\n",
    "@install_decorator\n",
    "def A_user():\n",
    "    print(\"login\")\n",
    "\n",
    "@install_decorator\n",
    "def B_user():\n",
    "    print(\"login_page\")\n"
   ]
  }
 ],
 "metadata": {
  "kernelspec": {
   "display_name": "Python 3 (ipykernel)",
   "language": "python",
   "name": "python3"
  },
  "language_info": {
   "codemirror_mode": {
    "name": "ipython",
    "version": 3
   },
   "file_extension": ".py",
   "mimetype": "text/x-python",
   "name": "python",
   "nbconvert_exporter": "python",
   "pygments_lexer": "ipython3",
   "version": "3.10.4"
  }
 },
 "nbformat": 4,
 "nbformat_minor": 5
}
