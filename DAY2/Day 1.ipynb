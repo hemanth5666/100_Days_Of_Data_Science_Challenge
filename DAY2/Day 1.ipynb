{
 "cells": [
  {
   "cell_type": "markdown",
   "id": "caa42515",
   "metadata": {},
   "source": [
    "# DOC STRING"
   ]
  },
  {
   "cell_type": "raw",
   "id": "c2ab771f",
   "metadata": {},
   "source": [
    "Docstrings provide a convenient way of associating documentation with functions. classes,\n",
    "or modules."
   ]
  },
  {
   "cell_type": "code",
   "execution_count": 1,
   "id": "acc64cb7",
   "metadata": {},
   "outputs": [
    {
     "data": {
      "text/plain": [
       "15"
      ]
     },
     "execution_count": 1,
     "metadata": {},
     "output_type": "execute_result"
    }
   ],
   "source": [
    "def my_function(a,b):\n",
    "    '''This function about adding two numbers'''\n",
    "    return a+b\n",
    "my_function(10,5)"
   ]
  },
  {
   "cell_type": "code",
   "execution_count": 2,
   "id": "61008d96",
   "metadata": {
    "scrolled": true
   },
   "outputs": [
    {
     "data": {
      "text/plain": [
       "'This function about adding two numbers'"
      ]
     },
     "execution_count": 2,
     "metadata": {},
     "output_type": "execute_result"
    }
   ],
   "source": [
    "my_function.__doc__"
   ]
  },
  {
   "cell_type": "markdown",
   "id": "0cca7db0",
   "metadata": {},
   "source": [
    "# DATA TYPES"
   ]
  },
  {
   "cell_type": "code",
   "execution_count": 3,
   "id": "b8be6467",
   "metadata": {},
   "outputs": [],
   "source": [
    "# Numeric\n",
    "int_=10 \n",
    "float_=2.4 \n",
    "complex_=3+8j\n",
    "\n",
    "# Sequence\n",
    "list_=[1,2,3,4]\n",
    "tuple_=(1,2,3,4)\n",
    "\n",
    "#Mapping\n",
    "dict_={'a':1,'b':2}\n",
    "\n",
    "# set\n",
    "set_={1,2,3,4}\n",
    "\n",
    "#bool\n",
    "bool_=True\n",
    "\n",
    "# string\n",
    "string_=\"Hello\""
   ]
  },
  {
   "cell_type": "markdown",
   "id": "310ca8a9",
   "metadata": {},
   "source": [
    "# CONDITIONAL AND LOOP STATEMENT"
   ]
  },
  {
   "cell_type": "code",
   "execution_count": 4,
   "id": "55d91930",
   "metadata": {},
   "outputs": [
    {
     "name": "stdout",
     "output_type": "stream",
     "text": [
      "hi\n"
     ]
    }
   ],
   "source": [
    "# if .. else\n",
    "if(True):\n",
    "    print(\"hi\")\n",
    "else:\n",
    "    print(\"hello\")\n",
    "# short hand   print(\"A\") if a > b else print(\"B\")"
   ]
  },
  {
   "cell_type": "code",
   "execution_count": 5,
   "id": "8801ea7d",
   "metadata": {},
   "outputs": [
    {
     "name": "stdout",
     "output_type": "stream",
     "text": [
      "elif\n"
     ]
    }
   ],
   "source": [
    "# if ... elif ... else\n",
    "flag=1\n",
    "if(flag==0):\n",
    "    print(\"if\")\n",
    "elif(flag==1):\n",
    "    print(\"elif\")\n",
    "else:\n",
    "    print(\"else\")"
   ]
  },
  {
   "cell_type": "code",
   "execution_count": 6,
   "id": "71a82474",
   "metadata": {},
   "outputs": [
    {
     "name": "stdout",
     "output_type": "stream",
     "text": [
      "inside if\n"
     ]
    }
   ],
   "source": [
    "#Nested if\n",
    "flag =1\n",
    "if(flag>0):\n",
    "    if(flag==1):\n",
    "        print(\"inside if\")\n",
    "    else:\n",
    "        print(\"inside else\")\n",
    "else:\n",
    "    pass"
   ]
  },
  {
   "cell_type": "code",
   "execution_count": 7,
   "id": "7de9bb7f",
   "metadata": {},
   "outputs": [
    {
     "name": "stdout",
     "output_type": "stream",
     "text": [
      "1\n",
      "2\n",
      "3\n",
      "4\n",
      "i is no longer less than 5\n"
     ]
    }
   ],
   "source": [
    "# looping\n",
    "# for and while\n",
    "i = 1\n",
    "while i < 5:\n",
    "  print(i)\n",
    "  i += 1\n",
    "else:\n",
    "  print(\"i is no longer less than 5\")"
   ]
  },
  {
   "cell_type": "code",
   "execution_count": 8,
   "id": "aff8f76c",
   "metadata": {},
   "outputs": [
    {
     "name": "stdout",
     "output_type": "stream",
     "text": [
      "1\n",
      "2\n"
     ]
    }
   ],
   "source": [
    "# break\n",
    "i = 1\n",
    "while i < 5:\n",
    "    print(i)\n",
    "    i += 1\n",
    "    if(i==3):\n",
    "        break\n",
    "\n",
    "else:\n",
    "  print(\"i is no longer less than 5\")"
   ]
  },
  {
   "cell_type": "code",
   "execution_count": 9,
   "id": "c1074c4a",
   "metadata": {},
   "outputs": [
    {
     "name": "stdout",
     "output_type": "stream",
     "text": [
      "1\n",
      "2\n",
      "3\n",
      "4\n",
      "i is no longer less than 5\n"
     ]
    }
   ],
   "source": [
    "# continue\n",
    "# break\n",
    "i = 1\n",
    "while i < 5:\n",
    "    print(i)\n",
    "    i += 1\n",
    "    if(i==3):\n",
    "        continue\n",
    "\n",
    "else:\n",
    "  print(\"i is no longer less than 5\")"
   ]
  },
  {
   "cell_type": "code",
   "execution_count": 10,
   "id": "9e2bab48",
   "metadata": {},
   "outputs": [
    {
     "name": "stdout",
     "output_type": "stream",
     "text": [
      "0 1 2 3 4 "
     ]
    }
   ],
   "source": [
    "# for loop\n",
    "for x in range(5):\n",
    "  print(x, end=\" \")"
   ]
  }
 ],
 "metadata": {
  "kernelspec": {
   "display_name": "Python 3 (ipykernel)",
   "language": "python",
   "name": "python3"
  },
  "language_info": {
   "codemirror_mode": {
    "name": "ipython",
    "version": 3
   },
   "file_extension": ".py",
   "mimetype": "text/x-python",
   "name": "python",
   "nbconvert_exporter": "python",
   "pygments_lexer": "ipython3",
   "version": "3.10.4"
  }
 },
 "nbformat": 4,
 "nbformat_minor": 5
}
