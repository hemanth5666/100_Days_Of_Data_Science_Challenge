{
 "cells": [
  {
   "cell_type": "markdown",
   "id": "2b586bfc",
   "metadata": {},
   "source": [
    "# EDA AUTOMATION TOOL"
   ]
  },
  {
   "cell_type": "code",
   "execution_count": 1,
   "id": "a2a59d8a",
   "metadata": {},
   "outputs": [],
   "source": [
    "import pandas as pd\n",
    "import numpy as np"
   ]
  },
  {
   "cell_type": "code",
   "execution_count": 2,
   "id": "d817f388",
   "metadata": {},
   "outputs": [],
   "source": [
    "df=pd.read_csv(\"D:/Downloads/archive (20)/tested.csv\")"
   ]
  },
  {
   "cell_type": "code",
   "execution_count": 4,
   "id": "d7bdbba6",
   "metadata": {
    "scrolled": false
   },
   "outputs": [
    {
     "data": {
      "text/html": [
       "<div>\n",
       "<style scoped>\n",
       "    .dataframe tbody tr th:only-of-type {\n",
       "        vertical-align: middle;\n",
       "    }\n",
       "\n",
       "    .dataframe tbody tr th {\n",
       "        vertical-align: top;\n",
       "    }\n",
       "\n",
       "    .dataframe thead th {\n",
       "        text-align: right;\n",
       "    }\n",
       "</style>\n",
       "<table border=\"1\" class=\"dataframe\">\n",
       "  <thead>\n",
       "    <tr style=\"text-align: right;\">\n",
       "      <th></th>\n",
       "      <th>PassengerId</th>\n",
       "      <th>Survived</th>\n",
       "      <th>Pclass</th>\n",
       "      <th>Name</th>\n",
       "      <th>Sex</th>\n",
       "      <th>Age</th>\n",
       "      <th>SibSp</th>\n",
       "      <th>Parch</th>\n",
       "      <th>Ticket</th>\n",
       "      <th>Fare</th>\n",
       "      <th>Cabin</th>\n",
       "      <th>Embarked</th>\n",
       "    </tr>\n",
       "  </thead>\n",
       "  <tbody>\n",
       "    <tr>\n",
       "      <th>0</th>\n",
       "      <td>892</td>\n",
       "      <td>0</td>\n",
       "      <td>3</td>\n",
       "      <td>Kelly, Mr. James</td>\n",
       "      <td>male</td>\n",
       "      <td>34.5</td>\n",
       "      <td>0</td>\n",
       "      <td>0</td>\n",
       "      <td>330911</td>\n",
       "      <td>7.8292</td>\n",
       "      <td>NaN</td>\n",
       "      <td>Q</td>\n",
       "    </tr>\n",
       "    <tr>\n",
       "      <th>1</th>\n",
       "      <td>893</td>\n",
       "      <td>1</td>\n",
       "      <td>3</td>\n",
       "      <td>Wilkes, Mrs. James (Ellen Needs)</td>\n",
       "      <td>female</td>\n",
       "      <td>47.0</td>\n",
       "      <td>1</td>\n",
       "      <td>0</td>\n",
       "      <td>363272</td>\n",
       "      <td>7.0000</td>\n",
       "      <td>NaN</td>\n",
       "      <td>S</td>\n",
       "    </tr>\n",
       "    <tr>\n",
       "      <th>2</th>\n",
       "      <td>894</td>\n",
       "      <td>0</td>\n",
       "      <td>2</td>\n",
       "      <td>Myles, Mr. Thomas Francis</td>\n",
       "      <td>male</td>\n",
       "      <td>62.0</td>\n",
       "      <td>0</td>\n",
       "      <td>0</td>\n",
       "      <td>240276</td>\n",
       "      <td>9.6875</td>\n",
       "      <td>NaN</td>\n",
       "      <td>Q</td>\n",
       "    </tr>\n",
       "    <tr>\n",
       "      <th>3</th>\n",
       "      <td>895</td>\n",
       "      <td>0</td>\n",
       "      <td>3</td>\n",
       "      <td>Wirz, Mr. Albert</td>\n",
       "      <td>male</td>\n",
       "      <td>27.0</td>\n",
       "      <td>0</td>\n",
       "      <td>0</td>\n",
       "      <td>315154</td>\n",
       "      <td>8.6625</td>\n",
       "      <td>NaN</td>\n",
       "      <td>S</td>\n",
       "    </tr>\n",
       "    <tr>\n",
       "      <th>4</th>\n",
       "      <td>896</td>\n",
       "      <td>1</td>\n",
       "      <td>3</td>\n",
       "      <td>Hirvonen, Mrs. Alexander (Helga E Lindqvist)</td>\n",
       "      <td>female</td>\n",
       "      <td>22.0</td>\n",
       "      <td>1</td>\n",
       "      <td>1</td>\n",
       "      <td>3101298</td>\n",
       "      <td>12.2875</td>\n",
       "      <td>NaN</td>\n",
       "      <td>S</td>\n",
       "    </tr>\n",
       "  </tbody>\n",
       "</table>\n",
       "</div>"
      ],
      "text/plain": [
       "   PassengerId  Survived  Pclass  \\\n",
       "0          892         0       3   \n",
       "1          893         1       3   \n",
       "2          894         0       2   \n",
       "3          895         0       3   \n",
       "4          896         1       3   \n",
       "\n",
       "                                           Name     Sex   Age  SibSp  Parch  \\\n",
       "0                              Kelly, Mr. James    male  34.5      0      0   \n",
       "1              Wilkes, Mrs. James (Ellen Needs)  female  47.0      1      0   \n",
       "2                     Myles, Mr. Thomas Francis    male  62.0      0      0   \n",
       "3                              Wirz, Mr. Albert    male  27.0      0      0   \n",
       "4  Hirvonen, Mrs. Alexander (Helga E Lindqvist)  female  22.0      1      1   \n",
       "\n",
       "    Ticket     Fare Cabin Embarked  \n",
       "0   330911   7.8292   NaN        Q  \n",
       "1   363272   7.0000   NaN        S  \n",
       "2   240276   9.6875   NaN        Q  \n",
       "3   315154   8.6625   NaN        S  \n",
       "4  3101298  12.2875   NaN        S  "
      ]
     },
     "execution_count": 4,
     "metadata": {},
     "output_type": "execute_result"
    }
   ],
   "source": [
    "df.head()"
   ]
  },
  {
   "cell_type": "markdown",
   "id": "3f893f01",
   "metadata": {},
   "source": [
    "# ProfileReport"
   ]
  },
  {
   "cell_type": "code",
   "execution_count": null,
   "id": "9d9b0e3a",
   "metadata": {
    "scrolled": true
   },
   "outputs": [],
   "source": [
    "from ydata_profiling import ProfileReport\n",
    "\n",
    "ProfileReport(df, title=\"My Data Profile\").to_file(\"report.html\")"
   ]
  },
  {
   "cell_type": "markdown",
   "id": "62db8f01",
   "metadata": {},
   "source": [
    "# SWEETVIZ"
   ]
  },
  {
   "cell_type": "raw",
   "id": "aad95e01",
   "metadata": {},
   "source": [
    "Benefits of EDA Automation Tools:\n",
    "\n",
    "    Efficiency: Automation tools can significantly reduce the time and effort required to perform EDA tasks, especially for large and complex datasets. They can quickly generate summary statistics, visualizations, and insights, allowing analysts to focus on interpreting the results rather than repetitive tasks.\n",
    "\n",
    "    Consistency: Automated EDA processes ensure consistency in analysis across different datasets and users. By following standardized procedures and algorithms, these tools minimize human errors and biases that may arise from manual analysis.\n",
    "\n",
    "    Scalability: Automation tools are well-suited for handling large volumes of data, making them scalable to diverse applications and datasets. They can efficiently process extensive datasets that may be impractical to analyze manually.\n",
    "\n",
    "    Exploration: Automation tools can facilitate exploratory data analysis by providing interactive visualizations and intuitive interfaces for data exploration. They enable users to interactively explore the data, identify patterns, and gain insights in real-time.\n",
    "\n",
    "Challenges and Limitations:\n",
    "\n",
    "    Overreliance: There's a risk of overreliance on automation tools, leading to a lack of critical thinking and domain expertise in data analysis. Users may become dependent on automated results without fully understanding the underlying assumptions or nuances of the data.\n",
    "\n",
    "    Black Box Nature: Some automation tools operate as \"black boxes,\" meaning that users may not have full visibility into the algorithms and methodologies used. This lack of transparency can make it challenging to interpret the results accurately or troubleshoot issues effectively.\n",
    "\n",
    "    Customization: Automation tools may lack flexibility or customization options to accommodate specific analysis requirements or domain-specific knowledge. Users may find it challenging to tailor the automated processes to suit their unique needs or preferences.\n",
    "\n",
    "    Quality Assurance: Automated EDA processes require rigorous quality assurance to ensure the accuracy and reliability of the results. Users must validate the outputs against manual analyses and domain knowledge to verify their correctness.pip install sweetviz\n"
   ]
  },
  {
   "cell_type": "code",
   "execution_count": null,
   "id": "1e9bdeb1",
   "metadata": {
    "scrolled": true
   },
   "outputs": [],
   "source": [
    "import sweetviz as sv"
   ]
  },
  {
   "cell_type": "code",
   "execution_count": null,
   "id": "f5426774",
   "metadata": {},
   "outputs": [],
   "source": [
    "df=pd.read_csv(\"D:/Downloads/archive (20)/tested.csv\")\n",
    "my_report = sv.analyze(df)\n",
    "my_report.show_html()\n"
   ]
  },
  {
   "cell_type": "raw",
   "id": "aebca09f",
   "metadata": {},
   "source": [
    "Benefits of EDA Automation Tools:\n",
    "\n",
    "    Efficiency: Automation tools can significantly reduce the time and effort required to perform EDA tasks, especially for large and complex datasets. They can quickly generate summary statistics, visualizations, and insights, allowing analysts to focus on interpreting the results rather than repetitive tasks.\n",
    "\n",
    "    Consistency: Automated EDA processes ensure consistency in analysis across different datasets and users. By following standardized procedures and algorithms, these tools minimize human errors and biases that may arise from manual analysis.\n",
    "\n",
    "    Scalability: Automation tools are well-suited for handling large volumes of data, making them scalable to diverse applications and datasets. They can efficiently process extensive datasets that may be impractical to analyze manually.\n",
    "\n",
    "    Exploration: Automation tools can facilitate exploratory data analysis by providing interactive visualizations and intuitive interfaces for data exploration. They enable users to interactively explore the data, identify patterns, and gain insights in real-time.\n",
    "\n",
    "Challenges and Limitations:\n",
    "\n",
    "    Overreliance: There's a risk of overreliance on automation tools, leading to a lack of critical thinking and domain expertise in data analysis. Users may become dependent on automated results without fully understanding the underlying assumptions or nuances of the data.\n",
    "\n",
    "    Black Box Nature: Some automation tools operate as \"black boxes,\" meaning that users may not have full visibility into the algorithms and methodologies used. This lack of transparency can make it challenging to interpret the results accurately or troubleshoot issues effectively.\n",
    "\n",
    "    Customization: Automation tools may lack flexibility or customization options to accommodate specific analysis requirements or domain-specific knowledge. Users may find it challenging to tailor the automated processes to suit their unique needs or preferences.\n",
    "\n",
    "    Quality Assurance: Automated EDA processes require rigorous quality assurance to ensure the accuracy and reliability of the results. Users must validate the outputs against manual analyses and domain knowledge to verify their correctness."
   ]
  },
  {
   "cell_type": "code",
   "execution_count": null,
   "id": "88978348",
   "metadata": {},
   "outputs": [],
   "source": [
    "def generate_ngrams(text, n):\n",
    "    \"\"\"Generate n-grams from a given text.\"\"\"\n",
    "    text = text.replace(\" \", \"\")  # Remove spaces\n",
    "    return [text[i:i+n] for i in range(len(text) - n + 1)]\n",
    "\n",
    "def count_common_ngrams(ngrams1, ngrams2):\n",
    "    \"\"\"Count common n-grams between two lists of n-grams.\"\"\"\n",
    "    common_ngrams_count = 0\n",
    "    for ngram in ngrams1:\n",
    "        if ngram in ngrams2:\n",
    "            common_ngrams_count += 1\n",
    "    return common_ngrams_count\n",
    "\n",
    "def sorenson_dice_coefficient(text1, text2, n):\n",
    "    \"\"\"Compute the Sorensen-Dice coefficient between two texts using n-grams.\"\"\"\n",
    "    \n",
    "    ngrams1 = generate_ngrams(text1.lower(), n)\n",
    "    ngrams2 = generate_ngrams(text2.lower(), n)\n",
    "    \n",
    "    common_ngrams_count = count_common_ngrams(ngrams1, ngrams2)\n",
    "    total_ngrams_count = len(ngrams1) + len(ngrams2)\n",
    "    \n",
    "    return 2.0 * common_ngrams_count / total_ngrams_count if total_ngrams_count > 0 else 0\n",
    "\n",
    "# Example usage:\n",
    "text1 = \"englishyu\"\n",
    "text2 = \"english\"\n",
    "n = 2  # Change n-gram size\n",
    "\n",
    "print(\"Sørensen-Dice coefficient\", sorenson_dice_coefficient(text1, text2, n))\n"
   ]
  },
  {
   "cell_type": "code",
   "execution_count": null,
   "id": "5fb5c666",
   "metadata": {},
   "outputs": [],
   "source": [
    "0.73 #removed non alphabetic character and space removed\n",
    "0.77 #without removed non alphabetic character and space removed  \n",
    "0.8 #removing non-alphanumeric characters and with space "
   ]
  }
 ],
 "metadata": {
  "kernelspec": {
   "display_name": "Python 3 (ipykernel)",
   "language": "python",
   "name": "python3"
  },
  "language_info": {
   "codemirror_mode": {
    "name": "ipython",
    "version": 3
   },
   "file_extension": ".py",
   "mimetype": "text/x-python",
   "name": "python",
   "nbconvert_exporter": "python",
   "pygments_lexer": "ipython3",
   "version": "3.10.4"
  }
 },
 "nbformat": 4,
 "nbformat_minor": 5
}
