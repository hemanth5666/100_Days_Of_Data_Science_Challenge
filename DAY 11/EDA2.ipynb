{
 "cells": [
  {
   "cell_type": "markdown",
   "id": "7acf7442",
   "metadata": {},
   "source": [
    "# OUTLIERS"
   ]
  },
  {
   "cell_type": "raw",
   "id": "62302538",
   "metadata": {},
   "source": [
    "An outlier is an observation that lies an abnormal distance from other values in a random sample from a population."
   ]
  },
  {
   "cell_type": "raw",
   "id": "85ae1681",
   "metadata": {},
   "source": [
    "A measurement error or data entry error, correct the error if possible. If you can’t fix it, remove that observation because you know it’s incorrect.\n",
    "\n",
    "Not a part of the population you are studying (i.e., unusual properties or conditions), you can legitimately remove the outlier.\n",
    "\n",
    "A natural part of the population you are studying, you should not remove it.\n",
    "\n",
    "Another approach is to perform the analysis with and without these observations and discuss the differences. Comparing results in this manner is particularly useful when you’re unsure about removing an outlier."
   ]
  },
  {
   "cell_type": "raw",
   "id": "81d70dac",
   "metadata": {},
   "source": [
    "Mean is the accurate measure to describe the data when we do not have any outliers present.\n",
    "Median is used if there is an outlier in the dataset.\n",
    "Mode is used if there is an outlier AND about ½ or more of the data is the same."
   ]
  },
  {
   "cell_type": "raw",
   "id": "69379e4e",
   "metadata": {},
   "source": [
    "Mean is the accurate measure to describe the data when we do not have any outliers present.\n",
    "Median is used if there is an outlier in the dataset.\n",
    "Mode is used if there is an outlier AND about ½ or more of the data is the same."
   ]
  },
  {
   "cell_type": "raw",
   "id": "6f2d7daa",
   "metadata": {},
   "source": [
    "Nonparametric tests (Nonparametric tests use the median as the measure of central tendency) don’t require that your data follow the normal distribution. They’re also known as distribution-free tests and can provide benefits in certain situations."
   ]
  },
  {
   "cell_type": "code",
   "execution_count": 1,
   "id": "c118252f",
   "metadata": {},
   "outputs": [],
   "source": [
    "import pandas as pd\n",
    "import numpy as np\n",
    "import warnings\n",
    "import matplotlib.pyplot as plt\n",
    "import seaborn as sns\n",
    "from sklearn.impute import SimpleImputer"
   ]
  },
  {
   "cell_type": "code",
   "execution_count": 2,
   "id": "3bb29123",
   "metadata": {},
   "outputs": [
    {
     "data": {
      "text/html": [
       "<div>\n",
       "<style scoped>\n",
       "    .dataframe tbody tr th:only-of-type {\n",
       "        vertical-align: middle;\n",
       "    }\n",
       "\n",
       "    .dataframe tbody tr th {\n",
       "        vertical-align: top;\n",
       "    }\n",
       "\n",
       "    .dataframe thead th {\n",
       "        text-align: right;\n",
       "    }\n",
       "</style>\n",
       "<table border=\"1\" class=\"dataframe\">\n",
       "  <thead>\n",
       "    <tr style=\"text-align: right;\">\n",
       "      <th></th>\n",
       "      <th>30</th>\n",
       "      <th>64</th>\n",
       "      <th>1</th>\n",
       "      <th>1.1</th>\n",
       "    </tr>\n",
       "  </thead>\n",
       "  <tbody>\n",
       "    <tr>\n",
       "      <th>0</th>\n",
       "      <td>30</td>\n",
       "      <td>62</td>\n",
       "      <td>3</td>\n",
       "      <td>1</td>\n",
       "    </tr>\n",
       "    <tr>\n",
       "      <th>1</th>\n",
       "      <td>30</td>\n",
       "      <td>65</td>\n",
       "      <td>0</td>\n",
       "      <td>1</td>\n",
       "    </tr>\n",
       "    <tr>\n",
       "      <th>2</th>\n",
       "      <td>31</td>\n",
       "      <td>59</td>\n",
       "      <td>2</td>\n",
       "      <td>1</td>\n",
       "    </tr>\n",
       "    <tr>\n",
       "      <th>3</th>\n",
       "      <td>31</td>\n",
       "      <td>65</td>\n",
       "      <td>4</td>\n",
       "      <td>1</td>\n",
       "    </tr>\n",
       "    <tr>\n",
       "      <th>4</th>\n",
       "      <td>33</td>\n",
       "      <td>58</td>\n",
       "      <td>10</td>\n",
       "      <td>1</td>\n",
       "    </tr>\n",
       "    <tr>\n",
       "      <th>...</th>\n",
       "      <td>...</td>\n",
       "      <td>...</td>\n",
       "      <td>...</td>\n",
       "      <td>...</td>\n",
       "    </tr>\n",
       "    <tr>\n",
       "      <th>300</th>\n",
       "      <td>75</td>\n",
       "      <td>62</td>\n",
       "      <td>1</td>\n",
       "      <td>1</td>\n",
       "    </tr>\n",
       "    <tr>\n",
       "      <th>301</th>\n",
       "      <td>76</td>\n",
       "      <td>67</td>\n",
       "      <td>0</td>\n",
       "      <td>1</td>\n",
       "    </tr>\n",
       "    <tr>\n",
       "      <th>302</th>\n",
       "      <td>77</td>\n",
       "      <td>65</td>\n",
       "      <td>3</td>\n",
       "      <td>1</td>\n",
       "    </tr>\n",
       "    <tr>\n",
       "      <th>303</th>\n",
       "      <td>78</td>\n",
       "      <td>65</td>\n",
       "      <td>1</td>\n",
       "      <td>2</td>\n",
       "    </tr>\n",
       "    <tr>\n",
       "      <th>304</th>\n",
       "      <td>83</td>\n",
       "      <td>58</td>\n",
       "      <td>2</td>\n",
       "      <td>2</td>\n",
       "    </tr>\n",
       "  </tbody>\n",
       "</table>\n",
       "<p>305 rows × 4 columns</p>\n",
       "</div>"
      ],
      "text/plain": [
       "     30  64   1  1.1\n",
       "0    30  62   3    1\n",
       "1    30  65   0    1\n",
       "2    31  59   2    1\n",
       "3    31  65   4    1\n",
       "4    33  58  10    1\n",
       "..   ..  ..  ..  ...\n",
       "300  75  62   1    1\n",
       "301  76  67   0    1\n",
       "302  77  65   3    1\n",
       "303  78  65   1    2\n",
       "304  83  58   2    2\n",
       "\n",
       "[305 rows x 4 columns]"
      ]
     },
     "execution_count": 2,
     "metadata": {},
     "output_type": "execute_result"
    }
   ],
   "source": [
    "df=pd.read_csv(\"D:/Downloads/archive (21)/haberman.csv\")\n",
    "df"
   ]
  },
  {
   "cell_type": "code",
   "execution_count": 3,
   "id": "d9a62a12",
   "metadata": {},
   "outputs": [],
   "source": [
    "df.columns=['patient_age', 'operation_year', 'positive_axillary_nodes', 'survival_status']"
   ]
  },
  {
   "cell_type": "code",
   "execution_count": 4,
   "id": "e3534d40",
   "metadata": {
    "scrolled": true
   },
   "outputs": [
    {
     "data": {
      "text/html": [
       "<div>\n",
       "<style scoped>\n",
       "    .dataframe tbody tr th:only-of-type {\n",
       "        vertical-align: middle;\n",
       "    }\n",
       "\n",
       "    .dataframe tbody tr th {\n",
       "        vertical-align: top;\n",
       "    }\n",
       "\n",
       "    .dataframe thead th {\n",
       "        text-align: right;\n",
       "    }\n",
       "</style>\n",
       "<table border=\"1\" class=\"dataframe\">\n",
       "  <thead>\n",
       "    <tr style=\"text-align: right;\">\n",
       "      <th></th>\n",
       "      <th>patient_age</th>\n",
       "      <th>operation_year</th>\n",
       "      <th>positive_axillary_nodes</th>\n",
       "      <th>survival_status</th>\n",
       "    </tr>\n",
       "  </thead>\n",
       "  <tbody>\n",
       "    <tr>\n",
       "      <th>0</th>\n",
       "      <td>30</td>\n",
       "      <td>62</td>\n",
       "      <td>3</td>\n",
       "      <td>1</td>\n",
       "    </tr>\n",
       "    <tr>\n",
       "      <th>1</th>\n",
       "      <td>30</td>\n",
       "      <td>65</td>\n",
       "      <td>0</td>\n",
       "      <td>1</td>\n",
       "    </tr>\n",
       "    <tr>\n",
       "      <th>2</th>\n",
       "      <td>31</td>\n",
       "      <td>59</td>\n",
       "      <td>2</td>\n",
       "      <td>1</td>\n",
       "    </tr>\n",
       "    <tr>\n",
       "      <th>3</th>\n",
       "      <td>31</td>\n",
       "      <td>65</td>\n",
       "      <td>4</td>\n",
       "      <td>1</td>\n",
       "    </tr>\n",
       "    <tr>\n",
       "      <th>4</th>\n",
       "      <td>33</td>\n",
       "      <td>58</td>\n",
       "      <td>10</td>\n",
       "      <td>1</td>\n",
       "    </tr>\n",
       "    <tr>\n",
       "      <th>...</th>\n",
       "      <td>...</td>\n",
       "      <td>...</td>\n",
       "      <td>...</td>\n",
       "      <td>...</td>\n",
       "    </tr>\n",
       "    <tr>\n",
       "      <th>300</th>\n",
       "      <td>75</td>\n",
       "      <td>62</td>\n",
       "      <td>1</td>\n",
       "      <td>1</td>\n",
       "    </tr>\n",
       "    <tr>\n",
       "      <th>301</th>\n",
       "      <td>76</td>\n",
       "      <td>67</td>\n",
       "      <td>0</td>\n",
       "      <td>1</td>\n",
       "    </tr>\n",
       "    <tr>\n",
       "      <th>302</th>\n",
       "      <td>77</td>\n",
       "      <td>65</td>\n",
       "      <td>3</td>\n",
       "      <td>1</td>\n",
       "    </tr>\n",
       "    <tr>\n",
       "      <th>303</th>\n",
       "      <td>78</td>\n",
       "      <td>65</td>\n",
       "      <td>1</td>\n",
       "      <td>2</td>\n",
       "    </tr>\n",
       "    <tr>\n",
       "      <th>304</th>\n",
       "      <td>83</td>\n",
       "      <td>58</td>\n",
       "      <td>2</td>\n",
       "      <td>2</td>\n",
       "    </tr>\n",
       "  </tbody>\n",
       "</table>\n",
       "<p>305 rows × 4 columns</p>\n",
       "</div>"
      ],
      "text/plain": [
       "     patient_age  operation_year  positive_axillary_nodes  survival_status\n",
       "0             30              62                        3                1\n",
       "1             30              65                        0                1\n",
       "2             31              59                        2                1\n",
       "3             31              65                        4                1\n",
       "4             33              58                       10                1\n",
       "..           ...             ...                      ...              ...\n",
       "300           75              62                        1                1\n",
       "301           76              67                        0                1\n",
       "302           77              65                        3                1\n",
       "303           78              65                        1                2\n",
       "304           83              58                        2                2\n",
       "\n",
       "[305 rows x 4 columns]"
      ]
     },
     "execution_count": 4,
     "metadata": {},
     "output_type": "execute_result"
    }
   ],
   "source": [
    "df"
   ]
  },
  {
   "cell_type": "code",
   "execution_count": 5,
   "id": "9bfb4d6b",
   "metadata": {},
   "outputs": [
    {
     "data": {
      "text/html": [
       "<div>\n",
       "<style scoped>\n",
       "    .dataframe tbody tr th:only-of-type {\n",
       "        vertical-align: middle;\n",
       "    }\n",
       "\n",
       "    .dataframe tbody tr th {\n",
       "        vertical-align: top;\n",
       "    }\n",
       "\n",
       "    .dataframe thead th {\n",
       "        text-align: right;\n",
       "    }\n",
       "</style>\n",
       "<table border=\"1\" class=\"dataframe\">\n",
       "  <thead>\n",
       "    <tr style=\"text-align: right;\">\n",
       "      <th></th>\n",
       "      <th>patient_age</th>\n",
       "      <th>operation_year</th>\n",
       "      <th>positive_axillary_nodes</th>\n",
       "      <th>survival_status</th>\n",
       "    </tr>\n",
       "  </thead>\n",
       "  <tbody>\n",
       "    <tr>\n",
       "      <th>count</th>\n",
       "      <td>305.000000</td>\n",
       "      <td>305.000000</td>\n",
       "      <td>305.000000</td>\n",
       "      <td>305.000000</td>\n",
       "    </tr>\n",
       "    <tr>\n",
       "      <th>mean</th>\n",
       "      <td>52.531148</td>\n",
       "      <td>62.849180</td>\n",
       "      <td>4.036066</td>\n",
       "      <td>1.265574</td>\n",
       "    </tr>\n",
       "    <tr>\n",
       "      <th>std</th>\n",
       "      <td>10.744024</td>\n",
       "      <td>3.254078</td>\n",
       "      <td>7.199370</td>\n",
       "      <td>0.442364</td>\n",
       "    </tr>\n",
       "    <tr>\n",
       "      <th>min</th>\n",
       "      <td>30.000000</td>\n",
       "      <td>58.000000</td>\n",
       "      <td>0.000000</td>\n",
       "      <td>1.000000</td>\n",
       "    </tr>\n",
       "    <tr>\n",
       "      <th>25%</th>\n",
       "      <td>44.000000</td>\n",
       "      <td>60.000000</td>\n",
       "      <td>0.000000</td>\n",
       "      <td>1.000000</td>\n",
       "    </tr>\n",
       "    <tr>\n",
       "      <th>50%</th>\n",
       "      <td>52.000000</td>\n",
       "      <td>63.000000</td>\n",
       "      <td>1.000000</td>\n",
       "      <td>1.000000</td>\n",
       "    </tr>\n",
       "    <tr>\n",
       "      <th>75%</th>\n",
       "      <td>61.000000</td>\n",
       "      <td>66.000000</td>\n",
       "      <td>4.000000</td>\n",
       "      <td>2.000000</td>\n",
       "    </tr>\n",
       "    <tr>\n",
       "      <th>max</th>\n",
       "      <td>83.000000</td>\n",
       "      <td>69.000000</td>\n",
       "      <td>52.000000</td>\n",
       "      <td>2.000000</td>\n",
       "    </tr>\n",
       "  </tbody>\n",
       "</table>\n",
       "</div>"
      ],
      "text/plain": [
       "       patient_age  operation_year  positive_axillary_nodes  survival_status\n",
       "count   305.000000      305.000000               305.000000       305.000000\n",
       "mean     52.531148       62.849180                 4.036066         1.265574\n",
       "std      10.744024        3.254078                 7.199370         0.442364\n",
       "min      30.000000       58.000000                 0.000000         1.000000\n",
       "25%      44.000000       60.000000                 0.000000         1.000000\n",
       "50%      52.000000       63.000000                 1.000000         1.000000\n",
       "75%      61.000000       66.000000                 4.000000         2.000000\n",
       "max      83.000000       69.000000                52.000000         2.000000"
      ]
     },
     "execution_count": 5,
     "metadata": {},
     "output_type": "execute_result"
    }
   ],
   "source": [
    "df.describe()"
   ]
  },
  {
   "cell_type": "raw",
   "id": "a92d6dca",
   "metadata": {},
   "source": [
    "\"there is a significant difference between the mean and the median values(50%). This is because there are some outliers in our data and the mean is influenced by the presence of outliers.It indicate potential outliers, it's not conclusive proof.Or (mean>median) skewed\"(positive_axillary_nodes mean =4 and median=1 difference is high)"
   ]
  },
  {
   "cell_type": "code",
   "execution_count": 6,
   "id": "f9c5d8ae",
   "metadata": {},
   "outputs": [
    {
     "data": {
      "image/png": "[encoded data removed]",
      "text/plain": [
       "<Figure size 299.125x216 with 1 Axes>"
      ]
     },
     "metadata": {
      "needs_background": "light"
     },
     "output_type": "display_data"
    },
    {
     "data": {
      "text/plain": [
       "<Figure size 864x432 with 0 Axes>"
      ]
     },
     "metadata": {},
     "output_type": "display_data"
    }
   ],
   "source": [
    "with warnings.catch_warnings():\n",
    "    warnings.simplefilter(\"ignore\") \n",
    "    g = sns.FacetGrid(df, hue=\"survival_status\")\n",
    "    g.map(sns.distplot, \"positive_axillary_nodes\", kde=True)\n",
    "    g.add_legend()\n",
    "    plt.figure(figsize=(12,6))\n",
    "    plt.show()\n"
   ]
  },
  {
   "cell_type": "markdown",
   "id": "986d3cc3",
   "metadata": {},
   "source": [
    "# Detecting Outliers"
   ]
  },
  {
   "cell_type": "markdown",
   "id": "f956fb11",
   "metadata": {},
   "source": [
    "# Zscore"
   ]
  },
  {
   "cell_type": "code",
   "execution_count": 7,
   "id": "1c0ddad2",
   "metadata": {},
   "outputs": [
    {
     "name": "stdout",
     "output_type": "stream",
     "text": [
      "[  8  61 173 214 251]\n"
     ]
    }
   ],
   "source": [
    "def detect_outliers_zscore(data, threshold=3):\n",
    "    z_scores = np.abs((data - np.mean(data)) / np.std(data))\n",
    "    return z_scores > threshold\n",
    "print(np.where(detect_outliers_zscore(df[\"positive_axillary_nodes\"]))[0])"
   ]
  },
  {
   "cell_type": "markdown",
   "id": "9c1ab140",
   "metadata": {},
   "source": [
    "# Boxplot"
   ]
  },
  {
   "cell_type": "code",
   "execution_count": 8,
   "id": "db777435",
   "metadata": {
    "scrolled": true
   },
   "outputs": [
    {
     "data": {
      "image/png": "[encoded data removed]",
      "text/plain": [
       "<Figure size 432x288 with 1 Axes>"
      ]
     },
     "metadata": {
      "needs_background": "light"
     },
     "output_type": "display_data"
    }
   ],
   "source": [
    "sns.boxplot(x = 'survival_status', y = 'positive_axillary_nodes', data = df) \n",
    "plt.show()"
   ]
  },
  {
   "cell_type": "markdown",
   "id": "24e64eba",
   "metadata": {},
   "source": [
    "# Interquartile Range (IQR) Method"
   ]
  },
  {
   "cell_type": "raw",
   "id": "ec22b36e",
   "metadata": {},
   "source": [
    "    Calculates the range between the first quartile (Q1) and the third quartile (Q3) of the data.\n",
    "    Identifies outliers as data points that fall below Q1 - 1.5 * IQR or above Q3 + 1.5 * IQR.\n",
    "    Robust to outliers and resistant to skewness in the data.\n",
    "    Particularly useful for skewed distributions or datasets with non-normal distributions.\n",
    "    Can be less sensitive to extreme values compared to the z-score method."
   ]
  },
  {
   "cell_type": "code",
   "execution_count": 9,
   "id": "51bbd93e",
   "metadata": {},
   "outputs": [
    {
     "name": "stdout",
     "output_type": "stream",
     "text": [
      "[  8  13  21  23  30  42  58  61  65  74  78  84  91  95 105 106 107 123\n",
      " 135 159 160 166 167 173 176 180 184 187 197 214 222 226 237 239 251 253\n",
      " 259 260 268 286]\n"
     ]
    }
   ],
   "source": [
    "def detect_outliers_iqr(data, threshold=1.5):\n",
    "    Q1, Q3 = np.percentile(data, [25, 75])\n",
    "    IQR = Q3 - Q1\n",
    "    return (data < Q1 - threshold * IQR) | (data > Q3 + threshold * IQR)\n",
    "print(np.where(detect_outliers_iqr(df[\"positive_axillary_nodes\"]))[0])"
   ]
  },
  {
   "cell_type": "raw",
   "id": "aff416a6",
   "metadata": {},
   "source": [
    "In this case outliers are usual one, Not need to remove.For learning purpose handling the outliers."
   ]
  },
  {
   "cell_type": "markdown",
   "id": "a59f9459",
   "metadata": {},
   "source": [
    "# Remove Outliers"
   ]
  },
  {
   "cell_type": "markdown",
   "id": "5846680c",
   "metadata": {},
   "source": [
    "# Imputation"
   ]
  },
  {
   "cell_type": "raw",
   "id": "91b7c5a9",
   "metadata": {},
   "source": [
    "Replace missing values or outliers with estimated values based on the remaining data, using techniques such as mean imputation, regression imputation, or multiple imputation."
   ]
  },
  {
   "cell_type": "code",
   "execution_count": 10,
   "id": "71139a38",
   "metadata": {},
   "outputs": [
    {
     "data": {
      "image/png": "[encoded data removed]",
      "text/plain": [
       "<Figure size 432x288 with 1 Axes>"
      ]
     },
     "metadata": {
      "needs_background": "light"
     },
     "output_type": "display_data"
    }
   ],
   "source": [
    "imputer = SimpleImputer(strategy='mean')\n",
    "imputed_data = imputer.fit_transform(df)\n",
    "colum=['patient_age', 'operation_year', 'positive_axillary_nodes', 'survival_status']\n",
    "imputed_df = pd.DataFrame(imputed_data, columns=colum)\n",
    "sns.boxplot(x = 'survival_status', y = 'positive_axillary_nodes', data = imputed_df) \n",
    "plt.show()"
   ]
  },
  {
   "cell_type": "markdown",
   "id": "a02d2e2a",
   "metadata": {},
   "source": [
    "# Winsorize"
   ]
  },
  {
   "cell_type": "raw",
   "id": "e0d47949",
   "metadata": {},
   "source": [
    "Replace extreme values with less extreme values, such as the nearest non-outlying value or a specified percentile value "
   ]
  },
  {
   "cell_type": "code",
   "execution_count": 11,
   "id": "d0f921c0",
   "metadata": {},
   "outputs": [
    {
     "name": "stdout",
     "output_type": "stream",
     "text": [
      "Winsorized Data:\n",
      "[ 3  0  2  4 10  0  0  9 20  1 10  7  0 13  0  1  0  0  0  0  6 15  0 20\n",
      "  2  0  0  3  1  0 11  1  5  0  0  0  0  2  4  2  0  0 20  0  0  0  8  0\n",
      "  0  8  0  0  1  0  0  1  2  4 20  0  1 20  2  0  0 14  2  3  0  2  0  4\n",
      "  6  9 19  0  1  0 16  6  0  1  0  0 14  0  0  1  2  3  5 20  0  3  0 20\n",
      "  0  0  0  6  0  0  3  4  4 12 11 11  7  8  2  0  0  0 10  1  0  0  1  1\n",
      "  3  0  1 13  0  0  6  0  1  1  2  0  0  4  1 13  3  7  1  0  1  3  2  3\n",
      "  4  0  4  0  4  5  0  1  0  0  0  4  1  3  9 20 12  1  1  2  1  0 11 20\n",
      "  5  7  7  3  0 20  0  7 19  1  0  6 15  1  0  1 18  0  3 20  1  9  3  0\n",
      "  2  1  0  0  5 14  1  9  0  0  0  0  0  0  0  0  3  1  0  0  3  2 20  0\n",
      "  0  1  4  0  7  3 17  0  1  2 20  0  5  0  1  0  0  0  8  0  0 13  0 19\n",
      "  6  0  0  0  1  0  0  0  0  0  9 20  0 20  0  0  0  0  2 20 15  0  0  0\n",
      "  2  0  1  0 13  0  1  0  8  1  0  0  0  0  0  0  8  0  0  0  0  4 14  0\n",
      "  0  8  0  2  0  0  0  3  0  0  3  0  1  0  3  1  2]\n"
     ]
    },
    {
     "data": {
      "image/png": "[encoded data removed]",
      "text/plain": [
       "<Figure size 432x288 with 1 Axes>"
      ]
     },
     "metadata": {
      "needs_background": "light"
     },
     "output_type": "display_data"
    },
    {
     "name": "stdout",
     "output_type": "stream",
     "text": [
      "[]\n"
     ]
    }
   ],
   "source": [
    "import numpy as np\n",
    "from scipy.stats.mstats import winsorize\n",
    "\n",
    "# Winsorize extreme values\n",
    "winsorized_data = winsorize(df['positive_axillary_nodes'], limits=[0.05, 0.05])\n",
    "\n",
    "print(\"Winsorized Data:\")\n",
    "print(winsorized_data)\n",
    "\n",
    "sns.boxplot(x = 'survival_status', y =winsorized_data, data = df) \n",
    "plt.show()\n",
    "\n",
    "def detect_outliers_zscore(data, threshold=3):\n",
    "    z_scores = np.abs((data - np.mean(data)) / np.std(data))\n",
    "    return z_scores > threshold\n",
    "print(np.where(detect_outliers_zscore(winsorized_data))[0])"
   ]
  },
  {
   "cell_type": "code",
   "execution_count": 12,
   "id": "0c1ce625",
   "metadata": {
    "scrolled": true
   },
   "outputs": [
    {
     "name": "stdout",
     "output_type": "stream",
     "text": [
      "Trimmed Data:\n",
      "     patient_age  operation_year  positive_axillary_nodes  survival_status\n",
      "0           30.0            62.0                      3.0                1\n",
      "1           30.0            65.0                      NaN                1\n",
      "2           31.0            59.0                      2.0                1\n",
      "3           31.0            65.0                      4.0                1\n",
      "4           33.0            58.0                     10.0                1\n",
      "..           ...             ...                      ...              ...\n",
      "300          NaN            62.0                      1.0                1\n",
      "301          NaN             NaN                      NaN                1\n",
      "302          NaN            65.0                      3.0                1\n",
      "303          NaN            65.0                      1.0                2\n",
      "304          NaN            58.0                      2.0                2\n",
      "\n",
      "[305 rows x 4 columns]\n"
     ]
    },
    {
     "data": {
      "image/png": "[encoded data removed]",
      "text/plain": [
       "<Figure size 432x288 with 1 Axes>"
      ]
     },
     "metadata": {
      "needs_background": "light"
     },
     "output_type": "display_data"
    }
   ],
   "source": [
    "trimmed_data = df[(df > np.percentile(df, 5)) & (df < np.percentile(df, 95))]\n",
    "\n",
    "print(\"Trimmed Data:\")\n",
    "print(trimmed_data)\n",
    "sns.boxplot(x = 'survival_status', y =\"positive_axillary_nodes\", data = trimmed_data) \n",
    "plt.show()"
   ]
  },
  {
   "cell_type": "markdown",
   "id": "dfd4a074",
   "metadata": {},
   "source": [
    "#  "
   ]
  },
  {
   "cell_type": "markdown",
   "id": "5a7df847",
   "metadata": {},
   "source": [
    "# SKEWNESS  AND KURTOSIS"
   ]
  },
  {
   "cell_type": "raw",
   "id": "8ba44ecc",
   "metadata": {},
   "source": [
    "Skewness measures the degree of asymmetry of the distribution, while Kurtosis measures the degree of peakedness and flatness of a distribution.\n",
    "\n",
    "skewness is between ‐2 to +2 and kurtosis is between ‐7 to +7."
   ]
  },
  {
   "cell_type": "raw",
   "id": "f0aeaa3d",
   "metadata": {},
   "source": [
    "Close to 0: The distribution is approximately symmetric.\n",
    "Greater than 0: The distribution is right-skewed (long tail on the right).\n",
    "Less than 0: The distribution is left-skewed (long tail on the left).\n",
    "    \n",
    "Close to 0: The distribution has tails similar to a normal distribution (mesokurtic).\n",
    "Greater than 0: The distribution has heavier tails than a normal distribution (leptokurtic).\n",
    "Less than 0: The distribution has lighter tails than a normal distribution (platykurtic)."
   ]
  },
  {
   "cell_type": "raw",
   "id": "498a4319",
   "metadata": {},
   "source": [
    "Skewness\n",
    "Measures the asymmetry of a graph, or how much a distribution deviates from a normal distribution. A distribution is asymmetrical if its left and right sides are not mirror images. Skewness can be positive, negative, or zero. A distribution is positively skewed when values are more concentrated on the right side, with a spread out left tail."
   ]
  },
  {
   "cell_type": "raw",
   "id": "9569f6bb",
   "metadata": {},
   "source": [
    "Kurtosis\n",
    "Measures the distribution's tailedness, or how often outliers occur. It describes how peaked or flat a distribution is, relative to a normal distribution. A distribution with high kurtosis has heavy tails and more outliers, while a distribution with low kurtosis has light tails and fewer outliers. A normal distribution has a kurtosis of 3. A distribution with a kurtosis less than 3 is playkurtic, and has fewer and less extreme outliers than a normal distribution. A distribution with a kurtosis greater than 3 is leptokurtic, and has more outliers than a normal distribution."
   ]
  },
  {
   "cell_type": "raw",
   "id": "10d377b5",
   "metadata": {},
   "source": [
    "Data sets with high kurtosis have heavy tails and more outliers, while data sets with low kurtosis tend to have light tails and fewer outliers.\n",
    "Kurtosis determines whether the data exhibits a heavy-tailed or light-tailed distribution.\n",
    "Excess kurtosis can be positive (Leptokurtic distribution), negative (Platykurtic distribution), or near zero (Mesokurtic distribution)."
   ]
  },
  {
   "cell_type": "code",
   "execution_count": 13,
   "id": "15d8f3bd",
   "metadata": {},
   "outputs": [],
   "source": [
    "import numpy as np\n",
    "import pandas as pd\n",
    "from scipy.stats import skew, kurtosis\n",
    "from scipy.stats import boxcox\n",
    "import seaborn as sns\n",
    "import matplotlib.pyplot as plt"
   ]
  },
  {
   "cell_type": "code",
   "execution_count": 14,
   "id": "e0636559",
   "metadata": {},
   "outputs": [],
   "source": [
    "np.random.seed(0)\n",
    "data = np.random.gamma(2, scale=2, size=1000)"
   ]
  },
  {
   "cell_type": "code",
   "execution_count": 15,
   "id": "b719ea67",
   "metadata": {},
   "outputs": [],
   "source": [
    "df = pd.DataFrame(data, columns=['Value'])"
   ]
  },
  {
   "cell_type": "code",
   "execution_count": 16,
   "id": "7db775fb",
   "metadata": {},
   "outputs": [
    {
     "data": {
      "image/png": "[encoded data removed]",
      "text/plain": [
       "<Figure size 432x288 with 1 Axes>"
      ]
     },
     "metadata": {
      "needs_background": "light"
     },
     "output_type": "display_data"
    }
   ],
   "source": [
    "sns.histplot(df['Value'], kde=True)\n",
    "plt.title('Histogram of Data')\n",
    "plt.xlabel('Value')\n",
    "plt.ylabel('Frequency')\n",
    "plt.show()"
   ]
  },
  {
   "cell_type": "code",
   "execution_count": 17,
   "id": "63bb925c",
   "metadata": {},
   "outputs": [
    {
     "name": "stdout",
     "output_type": "stream",
     "text": [
      "Skewness: 1.358332294792333\n",
      "Kurtosis: 2.4079180806130145\n"
     ]
    }
   ],
   "source": [
    "skewness = skew(df['Value'])\n",
    "kurt = kurtosis(df['Value'])\n",
    "\n",
    "print(\"Skewness:\", skewness)\n",
    "print(\"Kurtosis:\", kurt)"
   ]
  },
  {
   "cell_type": "code",
   "execution_count": 18,
   "id": "064772fd",
   "metadata": {},
   "outputs": [
    {
     "name": "stdout",
     "output_type": "stream",
     "text": [
      "Lambda value for Box-Cox transformation: 0.29396531445691065\n"
     ]
    }
   ],
   "source": [
    "# Handle Skewness and Kurtosis\n",
    "# Box-Cox Transformation\n",
    "transformed_data, lambda_value = boxcox(df['Value'])\n",
    "print(\"Lambda value for Box-Cox transformation:\", lambda_value)"
   ]
  },
  {
   "cell_type": "code",
   "execution_count": 19,
   "id": "c07c1c9d",
   "metadata": {},
   "outputs": [
    {
     "data": {
      "image/png": "[encoded data removed]",
      "text/plain": [
       "<Figure size 432x288 with 1 Axes>"
      ]
     },
     "metadata": {
      "needs_background": "light"
     },
     "output_type": "display_data"
    },
    {
     "name": "stdout",
     "output_type": "stream",
     "text": [
      "Skewness after transformation: -0.011599377255897552\n",
      "Kurtosis after transformation: -0.13618493270290521\n"
     ]
    }
   ],
   "source": [
    "sns.histplot(transformed_data, kde=True)\n",
    "plt.title('Histogram of Transformed Data')\n",
    "plt.xlabel('Value')\n",
    "plt.ylabel('Frequency')\n",
    "plt.show()\n",
    "\n",
    "# Re-calculate skewness and kurtosis after transformation\n",
    "skewness_transformed = skew(transformed_data)\n",
    "kurt_transformed = kurtosis(transformed_data)\n",
    "\n",
    "print(\"Skewness after transformation:\", skewness_transformed)\n",
    "print(\"Kurtosis after transformation:\", kurt_transformed)"
   ]
  }
 ],
 "metadata": {
  "kernelspec": {
   "display_name": "Python 3 (ipykernel)",
   "language": "python",
   "name": "python3"
  },
  "language_info": {
   "codemirror_mode": {
    "name": "ipython",
    "version": 3
   },
   "file_extension": ".py",
   "mimetype": "text/x-python",
   "name": "python",
   "nbconvert_exporter": "python",
   "pygments_lexer": "ipython3",
   "version": "3.10.4"
  }
 },
 "nbformat": 4,
 "nbformat_minor": 5
}
